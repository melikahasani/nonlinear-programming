{
  "nbformat": 4,
  "nbformat_minor": 0,
  "metadata": {
    "colab": {
      "provenance": []
    },
    "kernelspec": {
      "name": "python3",
      "display_name": "Python 3"
    },
    "language_info": {
      "name": "python"
    }
  },
  "cells": [
    {
      "cell_type": "code",
      "execution_count": 3,
      "metadata": {
        "id": "NryCslkZwMV1"
      },
      "outputs": [],
      "source": [
        "import math\n",
        "#cholesky decomposition of matrix a:\n",
        "def ch(a):\n",
        "    k = len(a)\n",
        "    # base case of the recursive function\n",
        "    if k == 1:\n",
        "        return [[math.sqrt(a[0][0])]]\n",
        "\n",
        "\n",
        "    l = [[0.0 for j in range(k)] for i in range(k)] #creat l in memory\n",
        "    l[0][0] = math.sqrt(a[0][0]) #l11 = sqrt(a11)\n",
        "\n",
        "    for i in range(1 ,k):\n",
        "        l[i][0] = a[0][i]/math.sqrt(a[0][0]) #define l21\n",
        "\n",
        "    b = []\n",
        "\n",
        "    for i in range(k-1):\n",
        "      h = []\n",
        "      for j in range(k-1):\n",
        "        c = a[i+1][j+1] - l[i+1][0]*l[j+1][0] #define b = a22 - l21*l21transpose\n",
        "        h.append(c)\n",
        "      b.append(h)\n",
        "    b = ch(b)\n",
        "\n",
        "    for i in range(k-1):\n",
        "      for j in range(k-1):\n",
        "        l[i+1][j+1] = b[i][j] #build l\n",
        "\n",
        "    return l"
      ]
    },
    {
      "cell_type": "code",
      "source": [
        "def CountU(l, b):\n",
        "  # lu = b ----> find u\n",
        "  u = []\n",
        "  for i in range(len(b)):\n",
        "    c = 0\n",
        "    for j in range(i):\n",
        "        c += l[i][j]*u[j]\n",
        "    c = (b[i] - c) / l[i][i]\n",
        "    u.append(c)\n",
        "\n",
        "\n",
        "  return u"
      ],
      "metadata": {
        "id": "1PgC-aR7K4En"
      },
      "execution_count": 4,
      "outputs": []
    },
    {
      "cell_type": "code",
      "source": [
        "def CountX(lt, u):\n",
        "  #ltx = u ------> find x\n",
        "  x = []\n",
        "  x2 = []\n",
        "  n = len(u)\n",
        "  for i in range(n-1, -1, -1):\n",
        "    c = 0\n",
        "    for j in range(n-1, i, -1):\n",
        "        c += lt[i][j]*x[n-j-1]\n",
        "    c = (u[i] - c) / lt[i][i]\n",
        "    x.append(c)\n",
        "  for i in range(n):\n",
        "    x2.append(x[n-1-i])\n",
        "\n",
        "  return x2"
      ],
      "metadata": {
        "id": "IutY0o5vABJ8"
      },
      "execution_count": 5,
      "outputs": []
    },
    {
      "cell_type": "code",
      "source": [
        "def CalculateLT(l):\n",
        "  # takes l as input and return l transpose\n",
        "  n = len(l)\n",
        "  l1 = [[0.0 for j in range(n)] for i in range(n)]\n",
        "  for i in range(n):\n",
        "    for j in range(n):\n",
        "      l1[i][j] = l[j][i]\n",
        "    #  print(l[i][j])\n",
        "\n",
        "  return l1\n"
      ],
      "metadata": {
        "id": "XudpLE9LCzpd"
      },
      "execution_count": 14,
      "outputs": []
    },
    {
      "cell_type": "code",
      "source": [
        "import numpy\n",
        "def mse(a):\n",
        "  #mse = ||a-l||^2 / n^2\n",
        "  l = ch(a)\n",
        "  l2 = numpy.linalg.cholesky(a)\n",
        "  ans = 0\n",
        "  n = len(l)\n",
        "  for i in range(n):\n",
        "    for j in range(n):\n",
        "      ans += (l[i][j] - l2[i][j])**2\n",
        "\n",
        "  ans /= n**2\n",
        "  return ans"
      ],
      "metadata": {
        "id": "_tKFLKe7JptO"
      },
      "execution_count": 12,
      "outputs": []
    },
    {
      "cell_type": "code",
      "source": [
        "\n",
        "#main\n",
        "# n = int(input())\n",
        "# a = [[float(input()) for x in range (n)] for y in range(n)]\n",
        "# b = [float(input()) for x in range (n)]\n",
        "a=[[1,1,1],[1,1.001,1.001],[1,1.001,2]]\n",
        "b=[3,3.0030,4.0010]\n",
        "l = ch(a) #find cholesky decomposition of a\n",
        "u = CountU(l, b)#lu = b -----> find u\n",
        "lt = CalculateLT(l) #find transpose of l\n",
        "x = CountX(lt, u) #ltx = u -----> find x\n",
        "\n",
        "print(l)\n",
        "print(lt)\n",
        "print(u)\n",
        "print(x) #return x\n",
        "print(mse(a)) # return mse error"
      ],
      "metadata": {
        "colab": {
          "base_uri": "https://localhost:8080/"
        },
        "id": "HNbWd8SMDePJ",
        "outputId": "b48cf228-fac9-455d-d2b0-c74e3acd30c7"
      },
      "execution_count": 15,
      "outputs": [
        {
          "output_type": "stream",
          "name": "stdout",
          "text": [
            "[[1.0, 0.0, 0.0], [1.0, 0.03162277660168205, 0.0], [1.0, 0.03162277660168206, 0.999499874937461]]\n",
            "[[1.0, 1.0, 1.0], [0.0, 0.03162277660168205, 0.03162277660168206], [0.0, 0.0, 0.999499874937461]]\n",
            "[3.0, 0.0948683298050602, 0.9984993745621483]\n",
            "[-4.440892098500626e-13, 2.001001001001445, 0.9989989989989991]\n",
            "0.0\n"
          ]
        }
      ]
    },
    {
      "cell_type": "markdown",
      "source": [
        "l = [[1.0, 0.0, 0.0], [1.0, 0.03162277660168205, 0.0], [1.0, 0.03162277660168206, 0.999499874937461]]\n",
        "\n",
        "tranpose of l = [[1.0, 1.0, 1.0], [0.0, 0.03162277660168205, 0.03162277660168206], [0.0, 0.0, 0.999499874937461]]\n",
        "\n",
        "u = [3.0, 0.0948683298050602, 0.9984993745621483]\n",
        "\n",
        "x = [-4.440892098500626e-13, 2.001001001001445, 0.9989989989989991]\n",
        "\n",
        "mse = 0.0"
      ],
      "metadata": {
        "id": "t-38qxlTw8Sz"
      }
    }
  ]
}