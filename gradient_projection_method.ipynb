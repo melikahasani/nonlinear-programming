{
  "nbformat": 4,
  "nbformat_minor": 0,
  "metadata": {
    "colab": {
      "provenance": []
    },
    "kernelspec": {
      "name": "python3",
      "display_name": "Python 3"
    },
    "language_info": {
      "name": "python"
    }
  },
  "cells": [
    {
      "cell_type": "code",
      "source": [
        "import numpy as np\n",
        "import numpy.linalg as la"
      ],
      "metadata": {
        "id": "AaEqUT7tjA50"
      },
      "execution_count": 10,
      "outputs": []
    },
    {
      "cell_type": "code",
      "source": [
        "def projection(a, b, x):\n",
        "  n = len(x)\n",
        "  ans = [0] * n\n",
        "  if (len(a) == 0 and len(b) == 0):\n",
        "    ans = x\n",
        "  elif (len(b) == 0):\n",
        "     b = a - np.ones(len(a))\n",
        "  elif (len(a) == 0):\n",
        "     a = b + np.ones(len(b))\n",
        "  else:\n",
        "    for i in range (n):\n",
        "      if (x[i] >= a[i] and x[i] <= b[i]):\n",
        "        ans[i] = x[i]\n",
        "      elif (x[i] >= a[i]):\n",
        "        ans[i] = b[i]\n",
        "      else:\n",
        "        ans[i] = a[i]\n",
        "  return ans\n"
      ],
      "metadata": {
        "id": "KYDoWtisjDLc"
      },
      "execution_count": 23,
      "outputs": []
    },
    {
      "cell_type": "code",
      "execution_count": 12,
      "metadata": {
        "id": "f0SaauhXc6-o"
      },
      "outputs": [],
      "source": [
        "def gradient_method_constantstepsize(f, g, x0, t, epsilon, a, b):\n",
        "  x = x0\n",
        "  grad = g(x)\n",
        "  fun_val = f(x)\n",
        "  iter = 0\n",
        "  while la.norm(grad) > epsilon:\n",
        "    iter = iter + 1\n",
        "    x = x - t * grad\n",
        "    x = projection(a, b, x)\n",
        "    fun_val = f(x)\n",
        "    grad = g(x)\n",
        "  #  print('iter_number = {0:3d}'.format(iter),\\\n",
        "   #   'norm_grad = {0:2.6f}'.format(la.norm(grad)),\\\n",
        "    #  'fun_val = {0:2.6f}'.format(fun_val))\n",
        "  return x, fun_val, iter"
      ]
    },
    {
      "cell_type": "code",
      "source": [
        "f = lambda x : x[0]**2 + x[1]**2 + x[2]**2 + 2*x[0]*x[1]*x[2]\n",
        "g = lambda x : np.array([2*x[0] - 2*x[1]*x[2], 2*x[1] - 2*x[0]*x[2], 2*x[2] - 2*x[1]*x[0]])\n",
        "x0 = np.array([-2, -1, -1])\n",
        "a = np.array([-1, -2, -3])\n",
        "b = []\n",
        "x, fun_val, iter = gradient_method_constantstepsize(f, g, x0, 0.1, 1e-5, a, b)\n",
        "print('answer = ', x, 'fun_val = ', fun_val)"
      ],
      "metadata": {
        "colab": {
          "base_uri": "https://localhost:8080/"
        },
        "id": "7iTOAdLlnz5U",
        "outputId": "eaa3baae-5525-4bce-f20c-6750c9e63248"
      },
      "execution_count": 25,
      "outputs": [
        {
          "output_type": "stream",
          "name": "stdout",
          "text": [
            "answer =  [0, 0, 0] fun_val =  0\n"
          ]
        }
      ]
    },
    {
      "cell_type": "code",
      "source": [
        "f = lambda x : x[0]**2 + x[1]**2 + x[2]**2 + 2*x[0]*x[1]*x[2]\n",
        "g = lambda x : np.array([2*x[0] - 2*x[1]*x[2], 2*x[1] - 2*x[0]*x[2], 2*x[2] - 2*x[1]*x[0]])\n",
        "x0 = np.array([-2, -1, -1])\n",
        "a = np.array([-1, -2, -3])\n",
        "b = []\n",
        "i = 0.001\n",
        "while i < 10:\n",
        "  x, fun_val, iter = gradient_method_constantstepsize(f, g, x0, i, 1e-5, a, b)\n",
        "  print('sterpsize = ', i, 'answer = ', x, 'fun_val = ', fun_val, 'iteration = ', iter)\n",
        "  i += 0.1"
      ],
      "metadata": {
        "colab": {
          "base_uri": "https://localhost:8080/"
        },
        "id": "wHVQboJxFvhi",
        "outputId": "714555a1-aada-4cb4-a2ea-8909741c93eb"
      },
      "execution_count": 33,
      "outputs": [
        {
          "output_type": "stream",
          "name": "stdout",
          "text": [
            "sterpsize =  0.001 answer =  [0, 0, 0] fun_val =  0 iteration =  1\n",
            "sterpsize =  0.101 answer =  [0, 0, 0] fun_val =  0 iteration =  1\n",
            "sterpsize =  0.201 answer =  [0, 0, 0] fun_val =  0 iteration =  1\n",
            "sterpsize =  0.30100000000000005 answer =  [0, 0, 0] fun_val =  0 iteration =  1\n",
            "sterpsize =  0.401 answer =  [0, 0, 0] fun_val =  0 iteration =  1\n",
            "sterpsize =  0.501 answer =  [0, 0, 0] fun_val =  0 iteration =  1\n",
            "sterpsize =  0.601 answer =  [0, 0, 0] fun_val =  0 iteration =  1\n",
            "sterpsize =  0.701 answer =  [0, 0, 0] fun_val =  0 iteration =  1\n",
            "sterpsize =  0.8009999999999999 answer =  [0, 0, 0] fun_val =  0 iteration =  1\n",
            "sterpsize =  0.9009999999999999 answer =  [0, 0, 0] fun_val =  0 iteration =  1\n",
            "sterpsize =  1.001 answer =  [0, 0, 0] fun_val =  0 iteration =  1\n",
            "sterpsize =  1.101 answer =  [0, 0, 0] fun_val =  0 iteration =  1\n",
            "sterpsize =  1.201 answer =  [0, 0, 0] fun_val =  0 iteration =  1\n",
            "sterpsize =  1.3010000000000002 answer =  [0, 0, 0] fun_val =  0 iteration =  1\n",
            "sterpsize =  1.4010000000000002 answer =  [0, 0, 0] fun_val =  0 iteration =  1\n",
            "sterpsize =  1.5010000000000003 answer =  [0, 0, 0] fun_val =  0 iteration =  1\n",
            "sterpsize =  1.6010000000000004 answer =  [0, 0, 0] fun_val =  0 iteration =  1\n",
            "sterpsize =  1.7010000000000005 answer =  [0, 0, 0] fun_val =  0 iteration =  1\n",
            "sterpsize =  1.8010000000000006 answer =  [0, 0, 0] fun_val =  0 iteration =  1\n",
            "sterpsize =  1.9010000000000007 answer =  [0, 0, 0] fun_val =  0 iteration =  1\n",
            "sterpsize =  2.001000000000001 answer =  [0, 0, 0] fun_val =  0 iteration =  1\n",
            "sterpsize =  2.101000000000001 answer =  [0, 0, 0] fun_val =  0 iteration =  1\n",
            "sterpsize =  2.201000000000001 answer =  [0, 0, 0] fun_val =  0 iteration =  1\n",
            "sterpsize =  2.301000000000001 answer =  [0, 0, 0] fun_val =  0 iteration =  1\n",
            "sterpsize =  2.401000000000001 answer =  [0, 0, 0] fun_val =  0 iteration =  1\n",
            "sterpsize =  2.5010000000000012 answer =  [0, 0, 0] fun_val =  0 iteration =  1\n",
            "sterpsize =  2.6010000000000013 answer =  [0, 0, 0] fun_val =  0 iteration =  1\n",
            "sterpsize =  2.7010000000000014 answer =  [0, 0, 0] fun_val =  0 iteration =  1\n",
            "sterpsize =  2.8010000000000015 answer =  [0, 0, 0] fun_val =  0 iteration =  1\n",
            "sterpsize =  2.9010000000000016 answer =  [0, 0, 0] fun_val =  0 iteration =  1\n",
            "sterpsize =  3.0010000000000017 answer =  [0, 0, 0] fun_val =  0 iteration =  1\n",
            "sterpsize =  3.1010000000000018 answer =  [0, 0, 0] fun_val =  0 iteration =  1\n",
            "sterpsize =  3.201000000000002 answer =  [0, 0, 0] fun_val =  0 iteration =  1\n",
            "sterpsize =  3.301000000000002 answer =  [0, 0, 0] fun_val =  0 iteration =  1\n",
            "sterpsize =  3.401000000000002 answer =  [0, 0, 0] fun_val =  0 iteration =  1\n",
            "sterpsize =  3.501000000000002 answer =  [0, 0, 0] fun_val =  0 iteration =  1\n",
            "sterpsize =  3.601000000000002 answer =  [0, 0, 0] fun_val =  0 iteration =  1\n",
            "sterpsize =  3.7010000000000023 answer =  [0, 0, 0] fun_val =  0 iteration =  1\n",
            "sterpsize =  3.8010000000000024 answer =  [0, 0, 0] fun_val =  0 iteration =  1\n",
            "sterpsize =  3.9010000000000025 answer =  [0, 0, 0] fun_val =  0 iteration =  1\n",
            "sterpsize =  4.001000000000002 answer =  [0, 0, 0] fun_val =  0 iteration =  1\n",
            "sterpsize =  4.101000000000002 answer =  [0, 0, 0] fun_val =  0 iteration =  1\n",
            "sterpsize =  4.201000000000001 answer =  [0, 0, 0] fun_val =  0 iteration =  1\n",
            "sterpsize =  4.301000000000001 answer =  [0, 0, 0] fun_val =  0 iteration =  1\n",
            "sterpsize =  4.401000000000001 answer =  [0, 0, 0] fun_val =  0 iteration =  1\n",
            "sterpsize =  4.501 answer =  [0, 0, 0] fun_val =  0 iteration =  1\n",
            "sterpsize =  4.601 answer =  [0, 0, 0] fun_val =  0 iteration =  1\n",
            "sterpsize =  4.701 answer =  [0, 0, 0] fun_val =  0 iteration =  1\n",
            "sterpsize =  4.800999999999999 answer =  [0, 0, 0] fun_val =  0 iteration =  1\n",
            "sterpsize =  4.900999999999999 answer =  [0, 0, 0] fun_val =  0 iteration =  1\n",
            "sterpsize =  5.000999999999999 answer =  [0, 0, 0] fun_val =  0 iteration =  1\n",
            "sterpsize =  5.100999999999998 answer =  [0, 0, 0] fun_val =  0 iteration =  1\n",
            "sterpsize =  5.200999999999998 answer =  [0, 0, 0] fun_val =  0 iteration =  1\n",
            "sterpsize =  5.3009999999999975 answer =  [0, 0, 0] fun_val =  0 iteration =  1\n",
            "sterpsize =  5.400999999999997 answer =  [0, 0, 0] fun_val =  0 iteration =  1\n",
            "sterpsize =  5.500999999999997 answer =  [0, 0, 0] fun_val =  0 iteration =  1\n",
            "sterpsize =  5.600999999999996 answer =  [0, 0, 0] fun_val =  0 iteration =  1\n",
            "sterpsize =  5.700999999999996 answer =  [0, 0, 0] fun_val =  0 iteration =  1\n",
            "sterpsize =  5.800999999999996 answer =  [0, 0, 0] fun_val =  0 iteration =  1\n",
            "sterpsize =  5.900999999999995 answer =  [0, 0, 0] fun_val =  0 iteration =  1\n",
            "sterpsize =  6.000999999999995 answer =  [0, 0, 0] fun_val =  0 iteration =  1\n",
            "sterpsize =  6.100999999999995 answer =  [0, 0, 0] fun_val =  0 iteration =  1\n",
            "sterpsize =  6.200999999999994 answer =  [0, 0, 0] fun_val =  0 iteration =  1\n",
            "sterpsize =  6.300999999999994 answer =  [0, 0, 0] fun_val =  0 iteration =  1\n",
            "sterpsize =  6.400999999999994 answer =  [0, 0, 0] fun_val =  0 iteration =  1\n",
            "sterpsize =  6.500999999999993 answer =  [0, 0, 0] fun_val =  0 iteration =  1\n",
            "sterpsize =  6.600999999999993 answer =  [0, 0, 0] fun_val =  0 iteration =  1\n",
            "sterpsize =  6.7009999999999925 answer =  [0, 0, 0] fun_val =  0 iteration =  1\n",
            "sterpsize =  6.800999999999992 answer =  [0, 0, 0] fun_val =  0 iteration =  1\n",
            "sterpsize =  6.900999999999992 answer =  [0, 0, 0] fun_val =  0 iteration =  1\n",
            "sterpsize =  7.0009999999999915 answer =  [0, 0, 0] fun_val =  0 iteration =  1\n",
            "sterpsize =  7.100999999999991 answer =  [0, 0, 0] fun_val =  0 iteration =  1\n",
            "sterpsize =  7.200999999999991 answer =  [0, 0, 0] fun_val =  0 iteration =  1\n",
            "sterpsize =  7.30099999999999 answer =  [0, 0, 0] fun_val =  0 iteration =  1\n",
            "sterpsize =  7.40099999999999 answer =  [0, 0, 0] fun_val =  0 iteration =  1\n",
            "sterpsize =  7.50099999999999 answer =  [0, 0, 0] fun_val =  0 iteration =  1\n",
            "sterpsize =  7.600999999999989 answer =  [0, 0, 0] fun_val =  0 iteration =  1\n",
            "sterpsize =  7.700999999999989 answer =  [0, 0, 0] fun_val =  0 iteration =  1\n",
            "sterpsize =  7.800999999999989 answer =  [0, 0, 0] fun_val =  0 iteration =  1\n",
            "sterpsize =  7.900999999999988 answer =  [0, 0, 0] fun_val =  0 iteration =  1\n",
            "sterpsize =  8.000999999999989 answer =  [0, 0, 0] fun_val =  0 iteration =  1\n",
            "sterpsize =  8.100999999999988 answer =  [0, 0, 0] fun_val =  0 iteration =  1\n",
            "sterpsize =  8.200999999999988 answer =  [0, 0, 0] fun_val =  0 iteration =  1\n",
            "sterpsize =  8.300999999999988 answer =  [0, 0, 0] fun_val =  0 iteration =  1\n",
            "sterpsize =  8.400999999999987 answer =  [0, 0, 0] fun_val =  0 iteration =  1\n",
            "sterpsize =  8.500999999999987 answer =  [0, 0, 0] fun_val =  0 iteration =  1\n",
            "sterpsize =  8.600999999999987 answer =  [0, 0, 0] fun_val =  0 iteration =  1\n",
            "sterpsize =  8.700999999999986 answer =  [0, 0, 0] fun_val =  0 iteration =  1\n",
            "sterpsize =  8.800999999999986 answer =  [0, 0, 0] fun_val =  0 iteration =  1\n",
            "sterpsize =  8.900999999999986 answer =  [0, 0, 0] fun_val =  0 iteration =  1\n",
            "sterpsize =  9.000999999999985 answer =  [0, 0, 0] fun_val =  0 iteration =  1\n",
            "sterpsize =  9.100999999999985 answer =  [0, 0, 0] fun_val =  0 iteration =  1\n",
            "sterpsize =  9.200999999999985 answer =  [0, 0, 0] fun_val =  0 iteration =  1\n",
            "sterpsize =  9.300999999999984 answer =  [0, 0, 0] fun_val =  0 iteration =  1\n",
            "sterpsize =  9.400999999999984 answer =  [0, 0, 0] fun_val =  0 iteration =  1\n",
            "sterpsize =  9.500999999999983 answer =  [0, 0, 0] fun_val =  0 iteration =  1\n",
            "sterpsize =  9.600999999999983 answer =  [0, 0, 0] fun_val =  0 iteration =  1\n",
            "sterpsize =  9.700999999999983 answer =  [0, 0, 0] fun_val =  0 iteration =  1\n",
            "sterpsize =  9.800999999999982 answer =  [0, 0, 0] fun_val =  0 iteration =  1\n",
            "sterpsize =  9.900999999999982 answer =  [0, 0, 0] fun_val =  0 iteration =  1\n"
          ]
        }
      ]
    }
  ]
}