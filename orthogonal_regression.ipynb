{
  "nbformat": 4,
  "nbformat_minor": 0,
  "metadata": {
    "colab": {
      "provenance": []
    },
    "kernelspec": {
      "name": "python3",
      "display_name": "Python 3"
    },
    "language_info": {
      "name": "python"
    }
  },
  "cells": [
    {
      "cell_type": "code",
      "execution_count": 9,
      "metadata": {
        "id": "BwQ1HbcoEYbJ"
      },
      "outputs": [],
      "source": [
        "import numpy as np\n",
        "from numpy.linalg import eig\n",
        "import matplotlib.pyplot as plt"
      ]
    },
    {
      "cell_type": "code",
      "source": [
        "def orthogonal_reg(a):\n",
        "  e = np.ones(len(a))\n",
        "  a = a.T @ (np.eye(len(a)) - e @ e.T / len(a)) @ a\n",
        "\n",
        "  val, vec = eig(a)\n",
        "  val1 = val[0]\n",
        "  ind = 0\n",
        "  for i in range(len(a)):\n",
        "    if val[i] < val1:\n",
        "      val1 = val[i]\n",
        "      ind = i\n",
        "  x = vec[i]\n",
        "  y = 0\n",
        "  for i in range(len(a)):\n",
        "    for j in range(len(x)):\n",
        "      y += a[i][j] * x[j]\n",
        "  y /= len(x)\n",
        "  return x, y\n"
      ],
      "metadata": {
        "id": "2hnqH8QFGPME"
      },
      "execution_count": 2,
      "outputs": []
    },
    {
      "cell_type": "markdown",
      "source": [
        "# **Data1**"
      ],
      "metadata": {
        "id": "P_h7eV5YLceq"
      }
    },
    {
      "cell_type": "code",
      "source": [
        "a = [[1, 1], [2, 3], [3, 2], [4, 4.5], [5, 5.2]]\n",
        "a = np.array(a)\n",
        "ans = orthogonal_reg(a)\n",
        "print('x = ', ans[0], 'y = ', ans[1])\n"
      ],
      "metadata": {
        "colab": {
          "base_uri": "https://localhost:8080/"
        },
        "id": "ZBnRuxc5LTiK",
        "outputId": "45e89a63-4b18-4254-bcb6-0f3d6c8e0517"
      },
      "execution_count": 13,
      "outputs": [
        {
          "output_type": "stream",
          "name": "stdout",
          "text": [
            "x =  [-0.69190372  0.72198978] y =  -10.72961911813995\n"
          ]
        }
      ]
    },
    {
      "cell_type": "markdown",
      "source": [
        "# **Data2**"
      ],
      "metadata": {
        "id": "INSH-798NkYu"
      }
    },
    {
      "cell_type": "code",
      "source": [
        "a = [[1, 0.4], [2, 1.1], [3, 2.4], [4, 3.8], [5, 5.1], [6, 6.8], [7, 8.5], [8, 10], [9, 13], [10, 15]]\n",
        "a = np.array(a)\n",
        "ans = orthogonal_reg(a)\n",
        "print('x = ', ans[0], 'y = ', ans[1])"
      ],
      "metadata": {
        "id": "_aoTPqvbNpIC",
        "colab": {
          "base_uri": "https://localhost:8080/"
        },
        "outputId": "fb0345a9-973f-4493-f303-880dd2c2daea"
      },
      "execution_count": 16,
      "outputs": [
        {
          "output_type": "stream",
          "name": "stdout",
          "text": [
            "x =  [-0.645       0.76418257] y =  -752.8096386146854\n"
          ]
        }
      ]
    }
  ]
}